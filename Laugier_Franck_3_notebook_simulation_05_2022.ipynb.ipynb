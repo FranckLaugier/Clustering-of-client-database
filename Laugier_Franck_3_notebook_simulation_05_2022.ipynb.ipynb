{
 "cells": [
  {
   "cell_type": "code",
   "execution_count": 1,
   "id": "70325a83-56ff-435f-a983-a972867e3126",
   "metadata": {},
   "outputs": [],
   "source": [
    "%load_ext pycodestyle_magic\n",
    "import pandas as pd\n",
    "import numpy as np\n",
    "import matplotlib.pyplot as plt\n",
    "import seaborn as sns\n",
    "from sklearn.pipeline import make_pipeline\n",
    "from sklearn.cluster import KMeans\n",
    "from sklearn.preprocessing import StandardScaler\n",
    "from sklearn.metrics import adjusted_rand_score\n",
    "\n",
    "pd.options.display.max_columns = None"
   ]
  },
  {
   "cell_type": "code",
   "execution_count": 2,
   "id": "cf953813-52b4-47d1-8528-227cc96f0cfc",
   "metadata": {},
   "outputs": [
    {
     "name": "stdout",
     "output_type": "stream",
     "text": [
      "Le fichier data_nettoyee contient 115608 lignes et 40 colonnes\n"
     ]
    }
   ],
   "source": [
    "data = pd.read_csv('data_nettoyee.csv')\n",
    "print(f'Le fichier data_nettoyee contient {data.shape[0]} lignes et {data.shape[1]} colonnes')"
   ]
  },
  {
   "cell_type": "markdown",
   "id": "c8c5d169-3682-4ffd-8913-ae3cab7d2778",
   "metadata": {},
   "source": [
    "### Correction des types"
   ]
  },
  {
   "cell_type": "code",
   "execution_count": 3,
   "id": "916c265e-b511-475c-a993-a04530290f59",
   "metadata": {},
   "outputs": [],
   "source": [
    "liste_date = ['order_purchase_timestamp', 'order_approved_at', 'order_delivered_customer_date', 'order_estimated_delivery_date',\n",
    "              'review_creation_date', 'review_answer_timestamp', 'shipping_limit_date']\n",
    "\n",
    "for date in liste_date:\n",
    "    data[date]=data[date].astype('datetime64[ns]')"
   ]
  },
  {
   "cell_type": "markdown",
   "id": "f3f54fc9-d55f-40e5-bcf9-27491c87e481",
   "metadata": {},
   "source": [
    "## Ajout des variables"
   ]
  },
  {
   "cell_type": "code",
   "execution_count": 4,
   "id": "3c498255-38bf-45b0-9230-60668c7f500b",
   "metadata": {},
   "outputs": [],
   "source": [
    "# Recency\n",
    "max_date = max(data['order_purchase_timestamp'])\n",
    "data['dernier_achat_jours'] = (max_date - data['order_purchase_timestamp']).dt.days\n",
    "\n",
    "recency = data.groupby('customer_unique_id')['dernier_achat_jours'].min()  #.min afin d'avoir la date la plus récente par customer_unique_id\n",
    "recency = recency.reset_index()\n",
    "recency.columns = ['customer_unique_id', 'recency']"
   ]
  },
  {
   "cell_type": "code",
   "execution_count": 5,
   "id": "ed9f344c-b1db-4508-b214-090c32907694",
   "metadata": {},
   "outputs": [],
   "source": [
    "# monetary - correspond à la somme des achats par client\n",
    "data['prix_total'] = data['price'] + data['freight_value']\n",
    "\n",
    "monetary = data.groupby('customer_unique_id')['prix_total'].sum()\n",
    "monetary = monetary.reset_index()\n",
    "monetary.columns = ['customer_unique_id', 'monetary']"
   ]
  },
  {
   "cell_type": "code",
   "execution_count": 6,
   "id": "a43382d8-9531-464a-b1fb-911a4bd73240",
   "metadata": {},
   "outputs": [],
   "source": [
    "# Frequency - correspond au nombre d'achats réalisé par client\n",
    "frequency = data.groupby('customer_unique_id')['order_id'].count()\n",
    "frequency = frequency.reset_index()\n",
    "frequency.columns = ['customer_unique_id', 'frequency']"
   ]
  },
  {
   "cell_type": "code",
   "execution_count": 7,
   "id": "0dba3aa6-53be-44f2-9549-e475d9aa8685",
   "metadata": {},
   "outputs": [],
   "source": [
    "# Review_score_mean - correspond au score moyen par commande\n",
    "Review_score_mean = data.groupby(['customer_unique_id','order_id']).agg({\"review_score\": 'mean'})\n",
    "Review_score_mean.columns = ['review_score_mean']\n",
    "Review_score_mean = Review_score_mean.groupby(['customer_unique_id'])['review_score_mean'].mean()\n",
    "Review_score_mean = Review_score_mean.reset_index()"
   ]
  },
  {
   "cell_type": "code",
   "execution_count": 8,
   "id": "3e14304e-410b-4306-b46a-94b27ccf36f0",
   "metadata": {},
   "outputs": [],
   "source": [
    "# Nb_payment_type - correspond au nombre de type de paiements différents utilisés par un client\n",
    "Nb_payment_type = data.groupby(['customer_unique_id']).agg({'payment_type': lambda x: x.nunique()})\n",
    "Nb_payment_type.columns = ['Nb_payment_type']\n",
    "Nb_payment_type = Nb_payment_type.reset_index()"
   ]
  },
  {
   "cell_type": "code",
   "execution_count": 9,
   "id": "a2c54e7c-12aa-4fb6-9927-ae60a4e4c9fd",
   "metadata": {},
   "outputs": [
    {
     "name": "stderr",
     "output_type": "stream",
     "text": [
      "/tmp/ipykernel_13549/3146655881.py:4: SettingWithCopyWarning: \n",
      "A value is trying to be set on a copy of a slice from a DataFrame\n",
      "\n",
      "See the caveats in the documentation: https://pandas.pydata.org/pandas-docs/stable/user_guide/indexing.html#returning-a-view-versus-a-copy\n",
      "  data_unique.drop_duplicates(subset='customer_unique_id', inplace=True)\n"
     ]
    }
   ],
   "source": [
    "# Création d'un df avec la dernière date d'achat du client\n",
    "data['order_purchase_last_timestamp'] = data.groupby('customer_unique_id')['order_purchase_timestamp'].transform(lambda x: x.max())\n",
    "data_unique = data[['customer_unique_id', 'order_purchase_last_timestamp']]\n",
    "data_unique.drop_duplicates(subset='customer_unique_id', inplace=True)"
   ]
  },
  {
   "cell_type": "code",
   "execution_count": 10,
   "id": "21d9ee66-99e1-42da-ae70-7fa1ab41df08",
   "metadata": {},
   "outputs": [
    {
     "data": {
      "text/plain": [
       "(93395, 7)"
      ]
     },
     "execution_count": 10,
     "metadata": {},
     "output_type": "execute_result"
    }
   ],
   "source": [
    "# Regroupement des données dans un df unique\n",
    "df_global = pd.merge(recency, frequency, on='customer_unique_id')\n",
    "df_global = pd.merge(df_global, monetary, on='customer_unique_id')\n",
    "df_global = pd.merge(df_global, Review_score_mean, on='customer_unique_id')\n",
    "df_global = pd.merge(df_global, Nb_payment_type, on='customer_unique_id')\n",
    "df_global = pd.merge(df_global, data_unique, on='customer_unique_id')\n",
    "df_global.shape"
   ]
  },
  {
   "cell_type": "code",
   "execution_count": 11,
   "id": "4fea1cf1-c6f9-4ce0-86c8-8a599f0fa203",
   "metadata": {},
   "outputs": [
    {
     "name": "stderr",
     "output_type": "stream",
     "text": [
      "/tmp/ipykernel_13549/1823028352.py:4: FutureWarning: Series.dt.weekofyear and Series.dt.week have been deprecated. Please use Series.dt.isocalendar().week instead.\n",
      "  df_global['week'] = df_global['order_purchase_last_timestamp'].dt.week\n"
     ]
    },
    {
     "data": {
      "text/plain": [
       "(93395, 10)"
      ]
     },
     "execution_count": 11,
     "metadata": {},
     "output_type": "execute_result"
    }
   ],
   "source": [
    "# Transformation de la date en plusieurs colonnes\n",
    "df_global['year_month_day'] = df_global['order_purchase_last_timestamp'].dt.to_period('D')\n",
    "df_global['year'] = df_global['order_purchase_last_timestamp'].dt.year\n",
    "df_global['week'] = df_global['order_purchase_last_timestamp'].dt.week\n",
    "df_global['year-week'] = df_global['order_purchase_last_timestamp'].dt.strftime('%Y-%U')\n",
    "df_global.drop(['order_purchase_last_timestamp'], axis=1, inplace=True)\n",
    "df_global.shape"
   ]
  },
  {
   "cell_type": "markdown",
   "id": "c0a5413d-67d3-4bf4-8718-1427c36eefcd",
   "metadata": {},
   "source": [
    "### Traitement des outliers"
   ]
  },
  {
   "cell_type": "code",
   "execution_count": 12,
   "id": "fde1e333-e4b3-4269-992d-2f096a5880c4",
   "metadata": {},
   "outputs": [],
   "source": [
    "# Suppression outliers avec la méthode des quantiles\n",
    "def traitement_outlier_quantile(df, Q1_limite, Q3_limite):\n",
    "\n",
    "    # monetary\n",
    "    Q1 = df.monetary.quantile(Q1_limite)\n",
    "    Q3 = df.monetary.quantile(Q3_limite)\n",
    "    IQR = Q3 - Q1\n",
    "    df = df[(df.monetary >= Q1 - 1.5*IQR) & (df.monetary <= Q3 + 1.5*IQR)]\n",
    "\n",
    "    # frequency\n",
    "    Q1 = df.frequency.quantile(Q1_limite)\n",
    "    Q3 = df.frequency.quantile(Q3_limite)\n",
    "    IQR = Q3 - Q1\n",
    "    df = df[(df.frequency >= Q1 - 1.5*IQR) & (df.frequency <= Q3 + 1.5*IQR)]\n",
    "\n",
    "    # recency\n",
    "    Q1 = df.recency.quantile(Q1_limite)\n",
    "    Q3 = df.recency.quantile(Q3_limite)\n",
    "    IQR = Q3 - Q1\n",
    "    df = df[(df.recency >= Q1 - 1.5*IQR) & (df.recency <= Q3 + 1.5*IQR)]\n",
    "\n",
    "    df.reset_index()\n",
    "    display(df.describe([0.01, 0.05, 0.1, 0.25, 0.5, 0.75, 0.9, 0.95, 0.99]))\n",
    "    return df\n"
   ]
  },
  {
   "cell_type": "code",
   "execution_count": 13,
   "id": "091c1e08-5c74-44b9-ac17-c8c48c5e90f4",
   "metadata": {},
   "outputs": [
    {
     "data": {
      "text/html": [
       "<div>\n",
       "<style scoped>\n",
       "    .dataframe tbody tr th:only-of-type {\n",
       "        vertical-align: middle;\n",
       "    }\n",
       "\n",
       "    .dataframe tbody tr th {\n",
       "        vertical-align: top;\n",
       "    }\n",
       "\n",
       "    .dataframe thead th {\n",
       "        text-align: right;\n",
       "    }\n",
       "</style>\n",
       "<table border=\"1\" class=\"dataframe\">\n",
       "  <thead>\n",
       "    <tr style=\"text-align: right;\">\n",
       "      <th></th>\n",
       "      <th>recency</th>\n",
       "      <th>frequency</th>\n",
       "      <th>monetary</th>\n",
       "      <th>review_score_mean</th>\n",
       "      <th>Nb_payment_type</th>\n",
       "      <th>year</th>\n",
       "      <th>week</th>\n",
       "    </tr>\n",
       "  </thead>\n",
       "  <tbody>\n",
       "    <tr>\n",
       "      <th>count</th>\n",
       "      <td>93191.000000</td>\n",
       "      <td>93191.000000</td>\n",
       "      <td>93191.000000</td>\n",
       "      <td>93191.000000</td>\n",
       "      <td>93191.000000</td>\n",
       "      <td>93191.000000</td>\n",
       "      <td>93191.000000</td>\n",
       "    </tr>\n",
       "    <tr>\n",
       "      <th>mean</th>\n",
       "      <td>241.702053</td>\n",
       "      <td>1.219345</td>\n",
       "      <td>168.848508</td>\n",
       "      <td>4.105607</td>\n",
       "      <td>1.025582</td>\n",
       "      <td>2017.549635</td>\n",
       "      <td>24.367654</td>\n",
       "    </tr>\n",
       "    <tr>\n",
       "      <th>std</th>\n",
       "      <td>153.126302</td>\n",
       "      <td>0.647839</td>\n",
       "      <td>211.395671</td>\n",
       "      <td>1.323753</td>\n",
       "      <td>0.158631</td>\n",
       "      <td>0.503770</td>\n",
       "      <td>13.992832</td>\n",
       "    </tr>\n",
       "    <tr>\n",
       "      <th>min</th>\n",
       "      <td>0.000000</td>\n",
       "      <td>1.000000</td>\n",
       "      <td>10.070000</td>\n",
       "      <td>1.000000</td>\n",
       "      <td>1.000000</td>\n",
       "      <td>2016.000000</td>\n",
       "      <td>1.000000</td>\n",
       "    </tr>\n",
       "    <tr>\n",
       "      <th>1%</th>\n",
       "      <td>13.000000</td>\n",
       "      <td>1.000000</td>\n",
       "      <td>22.840000</td>\n",
       "      <td>1.000000</td>\n",
       "      <td>1.000000</td>\n",
       "      <td>2017.000000</td>\n",
       "      <td>1.000000</td>\n",
       "    </tr>\n",
       "    <tr>\n",
       "      <th>5%</th>\n",
       "      <td>27.000000</td>\n",
       "      <td>1.000000</td>\n",
       "      <td>32.790000</td>\n",
       "      <td>1.000000</td>\n",
       "      <td>1.000000</td>\n",
       "      <td>2017.000000</td>\n",
       "      <td>3.000000</td>\n",
       "    </tr>\n",
       "    <tr>\n",
       "      <th>10%</th>\n",
       "      <td>45.000000</td>\n",
       "      <td>1.000000</td>\n",
       "      <td>40.680000</td>\n",
       "      <td>1.000000</td>\n",
       "      <td>1.000000</td>\n",
       "      <td>2017.000000</td>\n",
       "      <td>6.000000</td>\n",
       "    </tr>\n",
       "    <tr>\n",
       "      <th>25%</th>\n",
       "      <td>118.000000</td>\n",
       "      <td>1.000000</td>\n",
       "      <td>64.000000</td>\n",
       "      <td>4.000000</td>\n",
       "      <td>1.000000</td>\n",
       "      <td>2017.000000</td>\n",
       "      <td>13.000000</td>\n",
       "    </tr>\n",
       "    <tr>\n",
       "      <th>50%</th>\n",
       "      <td>222.000000</td>\n",
       "      <td>1.000000</td>\n",
       "      <td>110.090000</td>\n",
       "      <td>5.000000</td>\n",
       "      <td>1.000000</td>\n",
       "      <td>2018.000000</td>\n",
       "      <td>24.000000</td>\n",
       "    </tr>\n",
       "    <tr>\n",
       "      <th>75%</th>\n",
       "      <td>351.000000</td>\n",
       "      <td>1.000000</td>\n",
       "      <td>188.385000</td>\n",
       "      <td>5.000000</td>\n",
       "      <td>1.000000</td>\n",
       "      <td>2018.000000</td>\n",
       "      <td>34.000000</td>\n",
       "    </tr>\n",
       "    <tr>\n",
       "      <th>90%</th>\n",
       "      <td>470.000000</td>\n",
       "      <td>2.000000</td>\n",
       "      <td>331.990000</td>\n",
       "      <td>5.000000</td>\n",
       "      <td>1.000000</td>\n",
       "      <td>2018.000000</td>\n",
       "      <td>47.000000</td>\n",
       "    </tr>\n",
       "    <tr>\n",
       "      <th>95%</th>\n",
       "      <td>524.000000</td>\n",
       "      <td>2.000000</td>\n",
       "      <td>496.985000</td>\n",
       "      <td>5.000000</td>\n",
       "      <td>1.000000</td>\n",
       "      <td>2018.000000</td>\n",
       "      <td>48.000000</td>\n",
       "    </tr>\n",
       "    <tr>\n",
       "      <th>99%</th>\n",
       "      <td>580.000000</td>\n",
       "      <td>4.000000</td>\n",
       "      <td>1119.947000</td>\n",
       "      <td>5.000000</td>\n",
       "      <td>2.000000</td>\n",
       "      <td>2018.000000</td>\n",
       "      <td>51.000000</td>\n",
       "    </tr>\n",
       "    <tr>\n",
       "      <th>max</th>\n",
       "      <td>728.000000</td>\n",
       "      <td>8.000000</td>\n",
       "      <td>2960.050000</td>\n",
       "      <td>5.000000</td>\n",
       "      <td>3.000000</td>\n",
       "      <td>2018.000000</td>\n",
       "      <td>52.000000</td>\n",
       "    </tr>\n",
       "  </tbody>\n",
       "</table>\n",
       "</div>"
      ],
      "text/plain": [
       "            recency     frequency      monetary  review_score_mean  \\\n",
       "count  93191.000000  93191.000000  93191.000000       93191.000000   \n",
       "mean     241.702053      1.219345    168.848508           4.105607   \n",
       "std      153.126302      0.647839    211.395671           1.323753   \n",
       "min        0.000000      1.000000     10.070000           1.000000   \n",
       "1%        13.000000      1.000000     22.840000           1.000000   \n",
       "5%        27.000000      1.000000     32.790000           1.000000   \n",
       "10%       45.000000      1.000000     40.680000           1.000000   \n",
       "25%      118.000000      1.000000     64.000000           4.000000   \n",
       "50%      222.000000      1.000000    110.090000           5.000000   \n",
       "75%      351.000000      1.000000    188.385000           5.000000   \n",
       "90%      470.000000      2.000000    331.990000           5.000000   \n",
       "95%      524.000000      2.000000    496.985000           5.000000   \n",
       "99%      580.000000      4.000000   1119.947000           5.000000   \n",
       "max      728.000000      8.000000   2960.050000           5.000000   \n",
       "\n",
       "       Nb_payment_type          year          week  \n",
       "count     93191.000000  93191.000000  93191.000000  \n",
       "mean          1.025582   2017.549635     24.367654  \n",
       "std           0.158631      0.503770     13.992832  \n",
       "min           1.000000   2016.000000      1.000000  \n",
       "1%            1.000000   2017.000000      1.000000  \n",
       "5%            1.000000   2017.000000      3.000000  \n",
       "10%           1.000000   2017.000000      6.000000  \n",
       "25%           1.000000   2017.000000     13.000000  \n",
       "50%           1.000000   2018.000000     24.000000  \n",
       "75%           1.000000   2018.000000     34.000000  \n",
       "90%           1.000000   2018.000000     47.000000  \n",
       "95%           1.000000   2018.000000     48.000000  \n",
       "99%           2.000000   2018.000000     51.000000  \n",
       "max           3.000000   2018.000000     52.000000  "
      ]
     },
     "metadata": {},
     "output_type": "display_data"
    },
    {
     "name": "stdout",
     "output_type": "stream",
     "text": [
      "(93191, 9)\n"
     ]
    }
   ],
   "source": [
    "# Traitement des outliers\n",
    "df_global = traitement_outlier_quantile(df_global, 0.01, 0.99)\n",
    "df_global.set_index('customer_unique_id', inplace=True)\n",
    "print(df_global.shape)"
   ]
  },
  {
   "cell_type": "markdown",
   "id": "585f5ca0-bdb6-481c-b4ef-0048b007a8b3",
   "metadata": {},
   "source": [
    "## Test 1 - 6 features // n_clusters = 6\n",
    "\n",
    "Création des dataframes pour le calcul de l'ARI"
   ]
  },
  {
   "cell_type": "code",
   "execution_count": 14,
   "id": "d89742f4-9cc2-4a30-aafd-e1a5e8e4982a",
   "metadata": {},
   "outputs": [],
   "source": [
    "Liste_features = ['recency', 'frequency', 'monetary', 'review_score_mean', 'Nb_payment_type']"
   ]
  },
  {
   "cell_type": "code",
   "execution_count": 15,
   "id": "6bcbed20-8cb2-4d98-b998-ca8e8553e18c",
   "metadata": {},
   "outputs": [],
   "source": [
    "# Création du df de référence\n",
    "df_initial = df_global[df_global['year'] == 2017][Liste_features]\n",
    "initial_index = df_initial.index"
   ]
  },
  {
   "cell_type": "code",
   "execution_count": 16,
   "id": "4d9d9b6c-11df-4833-9157-f0b6f5823f25",
   "metadata": {},
   "outputs": [
    {
     "name": "stdout",
     "output_type": "stream",
     "text": [
      "(43027, 5)\n",
      "(44672, 5)\n",
      "(46177, 5)\n",
      "(47638, 5)\n",
      "(49142, 5)\n",
      "(50626, 5)\n",
      "(52225, 5)\n",
      "(53993, 5)\n",
      "(55547, 5)\n",
      "(57066, 5)\n",
      "(58724, 5)\n",
      "(60099, 5)\n",
      "(61641, 5)\n",
      "(63071, 5)\n",
      "(64707, 5)\n",
      "(66352, 5)\n",
      "(68012, 5)\n",
      "(69934, 5)\n",
      "(71758, 5)\n",
      "(72740, 5)\n",
      "(73704, 5)\n",
      "(75093, 5)\n",
      "(76618, 5)\n",
      "(77996, 5)\n",
      "(79399, 5)\n",
      "(80609, 5)\n",
      "(81537, 5)\n",
      "(83093, 5)\n",
      "(84709, 5)\n",
      "(86624, 5)\n",
      "(88637, 5)\n",
      "(90451, 5)\n",
      "(91629, 5)\n",
      "(91814, 5)\n"
     ]
    }
   ],
   "source": [
    "# Définition des dataframes par plage temporelle\n",
    "dfs_W = []\n",
    "\n",
    "for i in range(0, 35):\n",
    "    dfs_W.append(pd.DataFrame())\n",
    "\n",
    "dfs_W[0] = df_global[df_global['year'] == 2017][Liste_features]\n",
    "\n",
    "for i in range(1, 10):\n",
    "    dfs_W[i] = pd.concat([df_global[(df_global['year-week'] == '2018-0%s' % i)][Liste_features], dfs_W[i-1]])\n",
    "    print(dfs_W[i].shape)\n",
    "\n",
    "for i in range(10, 35):\n",
    "    dfs_W[i] = pd.concat([df_global[(df_global['year-week'] == '2018-%s' % i)][Liste_features], dfs_W[i-1]])\n",
    "    print(dfs_W[i].shape)"
   ]
  },
  {
   "cell_type": "code",
   "execution_count": 17,
   "id": "69afe9f0-696d-4211-9eae-60b6d77dc719",
   "metadata": {},
   "outputs": [],
   "source": [
    "# Définition du modèle initial\n",
    "m_initial = make_pipeline(StandardScaler(), KMeans(n_clusters=6, init = 'k-means++', random_state= 0)).fit(df_initial)\n",
    "\n",
    "# Prédiction sur le jeu de 2017 : référence\n",
    "labels_true_initial=m_initial.predict(df_initial)"
   ]
  },
  {
   "cell_type": "code",
   "execution_count": 18,
   "id": "9d111435-fcc3-47e5-be32-b9ba734acd04",
   "metadata": {},
   "outputs": [],
   "source": [
    "# Réalisation des prédictions pour l'ensemble des périodes avec le modèle intial\n",
    "for i in range(0, 35):\n",
    "    dfs_W[i]['pred'] = m_initial.fit_predict(dfs_W[i])"
   ]
  },
  {
   "cell_type": "code",
   "execution_count": 19,
   "id": "7b6cece0-5a30-4901-be98-b7f6fa51224c",
   "metadata": {},
   "outputs": [],
   "source": [
    "# Filtre sur les clients initiaux\n",
    "label_pred = []\n",
    "for i in range(0, 35):\n",
    "    label_pred.append(dfs_W[i][dfs_W[i].index.isin(initial_index)]['pred'])"
   ]
  },
  {
   "cell_type": "markdown",
   "id": "926e6b4f-5e52-44b4-ab4b-6d6fad56c210",
   "metadata": {},
   "source": [
    "### Calcul ARI"
   ]
  },
  {
   "cell_type": "code",
   "execution_count": 20,
   "id": "49b4b3e3-227f-4fcb-8e56-375ab389bdfe",
   "metadata": {},
   "outputs": [],
   "source": [
    "ari=[]\n",
    "\n",
    "# Score ARI initial = 1 \n",
    "ari.append(adjusted_rand_score(labels_true_initial, labels_true_initial))\n",
    "    \n",
    "for i in range(1, 35):\n",
    "    ari.append(adjusted_rand_score(labels_true_initial, label_pred[i]))"
   ]
  },
  {
   "cell_type": "code",
   "execution_count": 21,
   "id": "13dd32b8-f5cb-4399-bc6f-8cf034e716ce",
   "metadata": {},
   "outputs": [
    {
     "data": {
      "text/plain": [
       "<matplotlib.lines.Line2D at 0x7efc612811c0>"
      ]
     },
     "execution_count": 21,
     "metadata": {},
     "output_type": "execute_result"
    },
    {
     "data": {
      "image/png": "[encoded data removed]",
      "text/plain": [
       "<Figure size 864x576 with 1 Axes>"
      ]
     },
     "metadata": {},
     "output_type": "display_data"
    }
   ],
   "source": [
    "# Visualisation du score ARI\n",
    "sns.set()\n",
    "plt.figure(figsize=(12, 8))\n",
    "ax = sns.lineplot(x=range(0, 35, 1), y=ari)\n",
    "\n",
    "_ = ax.set_title('Délai de maintenance \\n Score ARI par semaine - 5 features // n_clusters = 6')\n",
    "_ = ax.set_ylabel('Score ARI')\n",
    "_ = ax.set_xlabel('Nombre de semaines')\n",
    "_ = ax.xaxis.set_ticks(range(0, 35, 1))\n",
    "ax.set_ylim(0, 1)\n",
    "\n",
    "plt.plot([0, 4.5], [0.8, 0.8], color='orange', linestyle='dashed')  # [x1,x2],[y1,y2]\n",
    "plt.axvline(x=4.5, ymax=0.8, color='orange', linestyle='dashed')"
   ]
  },
  {
   "cell_type": "markdown",
   "id": "56528ca3-1314-4015-82af-ac6e740d2884",
   "metadata": {},
   "source": [
    "### Test avec un dataframe RFM // 4 clusters"
   ]
  },
  {
   "cell_type": "code",
   "execution_count": 22,
   "id": "e827eb17-0049-4fcf-b775-2b2936ca2c47",
   "metadata": {},
   "outputs": [],
   "source": [
    "Liste_features_2 = ['recency','frequency','monetary']"
   ]
  },
  {
   "cell_type": "code",
   "execution_count": 23,
   "id": "7dede773-b830-4b5c-af21-5724ecf8264c",
   "metadata": {},
   "outputs": [
    {
     "name": "stdout",
     "output_type": "stream",
     "text": [
      "(43027, 3)\n",
      "(44672, 3)\n",
      "(46177, 3)\n",
      "(47638, 3)\n",
      "(49142, 3)\n",
      "(50626, 3)\n",
      "(52225, 3)\n",
      "(53993, 3)\n",
      "(55547, 3)\n",
      "(57066, 3)\n",
      "(58724, 3)\n",
      "(60099, 3)\n",
      "(61641, 3)\n",
      "(63071, 3)\n",
      "(64707, 3)\n",
      "(66352, 3)\n",
      "(68012, 3)\n",
      "(69934, 3)\n",
      "(71758, 3)\n",
      "(72740, 3)\n",
      "(73704, 3)\n",
      "(75093, 3)\n",
      "(76618, 3)\n",
      "(77996, 3)\n",
      "(79399, 3)\n",
      "(80609, 3)\n",
      "(81537, 3)\n",
      "(83093, 3)\n",
      "(84709, 3)\n",
      "(86624, 3)\n",
      "(88637, 3)\n",
      "(90451, 3)\n",
      "(91629, 3)\n",
      "(91814, 3)\n"
     ]
    }
   ],
   "source": [
    "# Définition des dataframes par plage temporelle\n",
    "dfs2_W = []\n",
    "\n",
    "for i in range(0, 35):\n",
    "    dfs2_W.append(pd.DataFrame())\n",
    "\n",
    "dfs2_W[0] = df_global[df_global['year'] == 2017][Liste_features_2]\n",
    "initial_index_2 = dfs2_W[0].index\n",
    "\n",
    "for i in range(1, 10):\n",
    "    dfs2_W[i] = pd.concat([df_global[(df_global['year-week'] == '2018-0%s' %i)][Liste_features_2], dfs2_W[i-1]])\n",
    "    print(dfs2_W[i].shape)\n",
    "\n",
    "for i in range(10, 35):\n",
    "    dfs2_W[i] = pd.concat([df_global[(df_global['year-week'] == '2018-%s' %i)][Liste_features_2], dfs2_W[i-1]])\n",
    "    print(dfs2_W[i].shape)"
   ]
  },
  {
   "cell_type": "code",
   "execution_count": 24,
   "id": "a9a8c928-d63f-4412-a794-b1b2ed7b36a7",
   "metadata": {},
   "outputs": [],
   "source": [
    "# Définition du modèle initial\n",
    "m2_initial = make_pipeline(StandardScaler(), KMeans(n_clusters=4, init = 'k-means++', random_state= 0)).fit(dfs2_W[0])\n",
    "\n",
    "# Prédiction sur le jeu de 2017 : référence\n",
    "labels_true_2_initial=m2_initial.predict(dfs2_W[0])"
   ]
  },
  {
   "cell_type": "code",
   "execution_count": 25,
   "id": "be603fac-332e-42fb-a0d3-bbd23e4fc99f",
   "metadata": {},
   "outputs": [],
   "source": [
    "# Réalisation des prédictions pour l'ensemble des périodes avec le modèle intial\n",
    "for i in range(0, 35):\n",
    "    dfs2_W[i]['pred'] = m2_initial.fit_predict(dfs2_W[i])"
   ]
  },
  {
   "cell_type": "code",
   "execution_count": 26,
   "id": "82d9fbe3-1054-44b7-a76e-261a0849e97c",
   "metadata": {},
   "outputs": [],
   "source": [
    "# Filtre sur les clients initiaux\n",
    "label_2_pred = []\n",
    "for i in range(0, 35):\n",
    "    label_2_pred.append(dfs2_W[i][dfs2_W[i].index.isin(initial_index_2)]['pred'])    "
   ]
  },
  {
   "cell_type": "markdown",
   "id": "31e218bc-f948-4fed-a1cb-c4e28803882a",
   "metadata": {},
   "source": [
    "### Calcul ARI"
   ]
  },
  {
   "cell_type": "code",
   "execution_count": 27,
   "id": "1c9771a3-57cc-46f3-91cf-3f73d531d862",
   "metadata": {},
   "outputs": [],
   "source": [
    "ari_2 = []\n",
    "\n",
    "# Score ARI initial = 1 \n",
    "ari_2.append(adjusted_rand_score(labels_true_2_initial, labels_true_2_initial))\n",
    "    \n",
    "for i in range(1, 35):\n",
    "    ari_2.append(adjusted_rand_score(labels_true_2_initial, label_2_pred[i]))"
   ]
  },
  {
   "cell_type": "code",
   "execution_count": 28,
   "id": "c2b36acd-9ad4-48ed-92af-a9fb40bcec56",
   "metadata": {},
   "outputs": [
    {
     "data": {
      "text/plain": [
       "<matplotlib.lines.Line2D at 0x7efc611b8700>"
      ]
     },
     "execution_count": 28,
     "metadata": {},
     "output_type": "execute_result"
    },
    {
     "data": {
      "image/png": "[encoded data removed]",
      "text/plain": [
       "<Figure size 864x576 with 1 Axes>"
      ]
     },
     "metadata": {},
     "output_type": "display_data"
    }
   ],
   "source": [
    "# Visualisation du score ARI\n",
    "sns.set()\n",
    "plt.figure(figsize=(12, 8))\n",
    "\n",
    "ax = sns.lineplot(x=range(0, 35, 1), y=ari_2)\n",
    "_ = ax.set_title('Délai de maintenance \\n Score ARI par semaine - 3 features // n_clusters = 4')\n",
    "_ = ax.set_ylabel('Score ARI')\n",
    "_ = ax.set_xlabel('Nombre de semaines')\n",
    "_ = ax.xaxis.set_ticks(range(0, 35, 1))\n",
    "ax.set_ylim(0, 1)\n",
    "\n",
    "plt.plot([0, 4], [0.8, 0.8], color='orange', linestyle='dashed')\n",
    "plt.axvline(x=4, ymax=0.8, color='orange', linestyle='dashed')"
   ]
  }
 ],
 "metadata": {
  "kernelspec": {
   "display_name": "Python 3 (ipykernel)",
   "language": "python",
   "name": "python3"
  },
  "language_info": {
   "codemirror_mode": {
    "name": "ipython",
    "version": 3
   },
   "file_extension": ".py",
   "mimetype": "text/x-python",
   "name": "python",
   "nbconvert_exporter": "python",
   "pygments_lexer": "ipython3",
   "version": "3.9.7"
  }
 },
 "nbformat": 4,
 "nbformat_minor": 5
}
